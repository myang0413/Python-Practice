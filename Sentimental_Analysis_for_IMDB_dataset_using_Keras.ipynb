{
  "nbformat": 4,
  "nbformat_minor": 0,
  "metadata": {
    "colab": {
      "provenance": [],
      "authorship_tag": "ABX9TyOWfr7XnD1lXLDJx+P39anO",
      "include_colab_link": true
    },
    "kernelspec": {
      "name": "python3",
      "display_name": "Python 3"
    },
    "language_info": {
      "name": "python"
    }
  },
  "cells": [
    {
      "cell_type": "markdown",
      "metadata": {
        "id": "view-in-github",
        "colab_type": "text"
      },
      "source": [
        "<a href=\"https://colab.research.google.com/github/myang0413/Python-Practice/blob/main/Sentimental_Analysis_for_IMDB_dataset_using_Keras.ipynb\" target=\"_parent\"><img src=\"https://colab.research.google.com/assets/colab-badge.svg\" alt=\"Open In Colab\"/></a>"
      ]
    },
    {
      "cell_type": "code",
      "execution_count": null,
      "metadata": {
        "id": "LsNSwH-7TweT"
      },
      "outputs": [],
      "source": [
        "import numpy as np\n",
        "import tensorflow as tf\n",
        "from tensorflow import keras\n",
        "from tensorflow.keras import Model\n",
        "from tensorflow.keras.layers import Input, Embedding, Bidirectional, LSTM, Dense\n",
        "from tensorflow.keras.optimizers import SGD\n",
        "\n",
        "vocab_size= 15000 # Word counts\n",
        "maxlen = 200 # Maximum number of input sequence for Bi-LSTM method"
      ]
    },
    {
      "cell_type": "markdown",
      "source": [
        "# Build the model in Functional API Style"
      ],
      "metadata": {
        "id": "-jBcA6ACT91b"
      }
    },
    {
      "cell_type": "code",
      "source": [
        "#Ways of working => input layer -> Bi-LSTM -> Dense(output)\n",
        "inputs = Input(shape=(None,), dtype=\"int32\")\n",
        "\n",
        "x=Embedding(vocab_size,100)(inputs) ##text-> vector(100d)\n",
        "x=Bidirectional(LSTM(128))(x) #hidden layer node =128\n",
        "outputs=Dense(1, activation=\"sigmoid\")(x) #Using sigmoid function for binary classifction\n",
        "mod=Model(inputs,outputs)\n",
        "mod.summary()"
      ],
      "metadata": {
        "colab": {
          "base_uri": "https://localhost:8080/"
        },
        "id": "cpDVFDi5T4sE",
        "outputId": "b6f2f4be-ea56-4135-b0fd-e123c10a1e3b"
      },
      "execution_count": null,
      "outputs": [
        {
          "output_type": "stream",
          "name": "stdout",
          "text": [
            "Model: \"model_1\"\n",
            "_________________________________________________________________\n",
            " Layer (type)                Output Shape              Param #   \n",
            "=================================================================\n",
            " input_3 (InputLayer)        [(None, None)]            0         \n",
            "                                                                 \n",
            " embedding_2 (Embedding)     (None, None, 100)         1500000   \n",
            "                                                                 \n",
            " bidirectional_3 (Bidirecti  (None, 256)               234496    \n",
            " onal)                                                           \n",
            "                                                                 \n",
            " dense_1 (Dense)             (None, 1)                 257       \n",
            "                                                                 \n",
            "=================================================================\n",
            "Total params: 1734753 (6.62 MB)\n",
            "Trainable params: 1734753 (6.62 MB)\n",
            "Non-trainable params: 0 (0.00 Byte)\n",
            "_________________________________________________________________\n"
          ]
        }
      ]
    },
    {
      "cell_type": "markdown",
      "source": [
        "Importing the IMDB dataset"
      ],
      "metadata": {
        "id": "dlDePQtEU7wS"
      }
    },
    {
      "cell_type": "code",
      "source": [
        "(X_train,y_train), (X_test, y_test) = keras.datasets.imdb.load_data(num_words=vocab_size)\n",
        "\n",
        "print(len(X_train), \"Training Sequence\")\n",
        "print(len(X_test), \"Test Sequence\")\n",
        "\n",
        "X_train=keras.preprocessing.sequence.pad_sequences(X_train, maxlen=maxlen)\n",
        "X_test=keras.preprocessing.sequence.pad_sequences(X_test,maxlen=maxlen)"
      ],
      "metadata": {
        "colab": {
          "base_uri": "https://localhost:8080/"
        },
        "id": "4883NWNhU-cT",
        "outputId": "b6cb84c8-0b26-403d-d613-3846d1afe699"
      },
      "execution_count": null,
      "outputs": [
        {
          "output_type": "stream",
          "name": "stdout",
          "text": [
            "25000 Training Sequence\n",
            "25000 Test Sequence\n"
          ]
        }
      ]
    },
    {
      "cell_type": "markdown",
      "source": [
        "Optimize the function"
      ],
      "metadata": {
        "id": "Ge4kq5Mdfdsi"
      }
    },
    {
      "cell_type": "code",
      "source": [
        "#configure variables\n",
        "batch_size=256\n",
        "lr=0.1\n",
        "epochs=15\n",
        "\n",
        "#Set optimizer, loss function, metrics\n",
        "optimizer=SGD(lr,momentum=0.9)\n",
        "loss_fn=\"binary_crossentropy\" #binary-classification\n",
        "metrics=[\"accuracy\"]\n",
        "\n",
        "mod.compile(optimizer=optimizer,\n",
        "            loss=loss_fn,\n",
        "            metrics=metrics)\n"
      ],
      "metadata": {
        "id": "kBgUkR4XWE4_"
      },
      "execution_count": 14,
      "outputs": []
    },
    {
      "cell_type": "markdown",
      "source": [
        "Model fitting and running"
      ],
      "metadata": {
        "id": "G7wegq6efmKh"
      }
    },
    {
      "cell_type": "code",
      "source": [
        "mod.fit(X_train, y_train,\n",
        "        batch_size=256,\n",
        "        epochs=15,\n",
        "        verbose=1,\n",
        "        validation_data=(X_test,y_te  st))"
      ],
      "metadata": {
        "colab": {
          "base_uri": "https://localhost:8080/"
        },
        "id": "ObQ4c0_YWwgj",
        "outputId": "27c19a23-e04e-43e6-8b42-ad132a929982"
      },
      "execution_count": 16,
      "outputs": [
        {
          "output_type": "stream",
          "name": "stdout",
          "text": [
            "Epoch 1/15\n",
            "98/98 [==============================] - 297s 3s/step - loss: 0.5835 - accuracy: 0.6928 - val_loss: 0.6074 - val_accuracy: 0.6603\n",
            "Epoch 2/15\n",
            "98/98 [==============================] - 296s 3s/step - loss: 0.5346 - accuracy: 0.7340 - val_loss: 0.5750 - val_accuracy: 0.6908\n",
            "Epoch 3/15\n",
            "98/98 [==============================] - 292s 3s/step - loss: 0.4643 - accuracy: 0.7856 - val_loss: 0.4299 - val_accuracy: 0.8117\n",
            "Epoch 4/15\n",
            "98/98 [==============================] - 287s 3s/step - loss: 0.5041 - accuracy: 0.7574 - val_loss: 0.5013 - val_accuracy: 0.7686\n",
            "Epoch 5/15\n",
            "98/98 [==============================] - 288s 3s/step - loss: 0.4439 - accuracy: 0.7930 - val_loss: 0.4470 - val_accuracy: 0.7953\n",
            "Epoch 6/15\n",
            "98/98 [==============================] - 293s 3s/step - loss: 0.4607 - accuracy: 0.7846 - val_loss: 0.5616 - val_accuracy: 0.7007\n",
            "Epoch 7/15\n",
            "98/98 [==============================] - 284s 3s/step - loss: 0.4233 - accuracy: 0.8069 - val_loss: 0.4312 - val_accuracy: 0.8037\n",
            "Epoch 8/15\n",
            "98/98 [==============================] - 284s 3s/step - loss: 0.4691 - accuracy: 0.7762 - val_loss: 0.4881 - val_accuracy: 0.7709\n",
            "Epoch 9/15\n",
            "98/98 [==============================] - 289s 3s/step - loss: 0.4465 - accuracy: 0.7979 - val_loss: 0.8007 - val_accuracy: 0.6074\n",
            "Epoch 10/15\n",
            "98/98 [==============================] - 289s 3s/step - loss: 0.4634 - accuracy: 0.7811 - val_loss: 0.4471 - val_accuracy: 0.8056\n",
            "Epoch 11/15\n",
            "98/98 [==============================] - 284s 3s/step - loss: 0.3890 - accuracy: 0.8287 - val_loss: 0.4953 - val_accuracy: 0.7644\n",
            "Epoch 12/15\n",
            "98/98 [==============================] - 285s 3s/step - loss: 0.4346 - accuracy: 0.8030 - val_loss: 0.4082 - val_accuracy: 0.8224\n",
            "Epoch 13/15\n",
            "98/98 [==============================] - 285s 3s/step - loss: 0.3485 - accuracy: 0.8510 - val_loss: 0.4011 - val_accuracy: 0.8302\n",
            "Epoch 14/15\n",
            "98/98 [==============================] - 287s 3s/step - loss: 0.3351 - accuracy: 0.8550 - val_loss: 0.3591 - val_accuracy: 0.8471\n",
            "Epoch 15/15\n",
            "98/98 [==============================] - 287s 3s/step - loss: 0.2778 - accuracy: 0.8878 - val_loss: 0.3266 - val_accuracy: 0.8614\n"
          ]
        },
        {
          "output_type": "execute_result",
          "data": {
            "text/plain": [
              "<keras.src.callbacks.History at 0x785e3e6d72b0>"
            ]
          },
          "metadata": {},
          "execution_count": 16
        }
      ]
    },
    {
      "cell_type": "markdown",
      "source": [
        "Model Evaluation"
      ],
      "metadata": {
        "id": "wx23ha5kgRUa"
      }
    },
    {
      "cell_type": "code",
      "source": [
        "mod.evaluate(X_test,y_test)"
      ],
      "metadata": {
        "colab": {
          "base_uri": "https://localhost:8080/"
        },
        "id": "TpebeRxCXKBb",
        "outputId": "46e58071-a51a-446d-ba68-d051962150d6"
      },
      "execution_count": 17,
      "outputs": [
        {
          "output_type": "stream",
          "name": "stdout",
          "text": [
            "782/782 [==============================] - 147s 188ms/step - loss: 0.3266 - accuracy: 0.8614\n"
          ]
        },
        {
          "output_type": "execute_result",
          "data": {
            "text/plain": [
              "[0.3265518248081207, 0.8614400029182434]"
            ]
          },
          "metadata": {},
          "execution_count": 17
        }
      ]
    }
  ]
}