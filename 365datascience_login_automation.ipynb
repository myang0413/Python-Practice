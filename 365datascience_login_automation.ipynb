{
 "cells": [
  {
   "cell_type": "code",
   "execution_count": null,
   "metadata": {},
   "outputs": [],
   "source": [
    " pip install selenium "
   ]
  },
  {
   "cell_type": "code",
   "execution_count": 63,
   "metadata": {},
   "outputs": [],
   "source": [
    "from selenium import webdriver\n",
    "from selenium.webdriver.chrome.service import Service\n",
    "from selenium.webdriver.common.by import By\n",
    "import time \n"
   ]
  },
  {
   "cell_type": "code",
   "execution_count": 64,
   "metadata": {},
   "outputs": [],
   "source": [
    "service = Service(executable_path='c://chromedriver.exe')\n",
    "options = webdriver.ChromeOptions()\n",
    "driver = webdriver.Chrome(service=service, options=options)\n",
    "driver.get(\"https://365datascience.com/login/\")\n"
   ]
  },
  {
   "cell_type": "code",
   "execution_count": 65,
   "metadata": {},
   "outputs": [],
   "source": [
    "continue_with_email_button=driver.find_element(By.CSS_SELECTOR,\"#__layout > div > main > div.account-container > div > div > div > div.body.form-wrap > div > div > section > div.body > div:nth-child(4) > button\").click()\n",
    "\n",
    "#ID input \n",
    "id=driver.find_element(By.CSS_SELECTOR,\"#email\")\n",
    "id.send_keys(\"0413mikey@gmail.com\")\n",
    "\n"
   ]
  },
  {
   "cell_type": "code",
   "execution_count": 66,
   "metadata": {},
   "outputs": [],
   "source": [
    "#Password input \n",
    "pw=driver.find_element(By.CSS_SELECTOR,\"#password\")\n",
    "pw.send_keys(\"12345678Ab!!\")\n",
    "\n",
    "#Clicking a log in button to log in\n",
    "log_in_button=driver.find_element(By.CSS_SELECTOR,\"#__layout > div > main > div.account-container > div > div > div > div.body.form-wrap > div > div > div > form > button\").click()"
   ]
  }
 ],
 "metadata": {
  "kernelspec": {
   "display_name": "Python 3.10.5 64-bit",
   "language": "python",
   "name": "python3"
  },
  "language_info": {
   "codemirror_mode": {
    "name": "ipython",
    "version": 3
   },
   "file_extension": ".py",
   "mimetype": "text/x-python",
   "name": "python",
   "nbconvert_exporter": "python",
   "pygments_lexer": "ipython3",
   "version": "3.10.5"
  },
  "orig_nbformat": 4,
  "vscode": {
   "interpreter": {
    "hash": "fb4569285eef3a3450cb62085a5b1e0da4bce0af555edc33dcf29baf3acc1368"
   }
  }
 },
 "nbformat": 4,
 "nbformat_minor": 2
}
