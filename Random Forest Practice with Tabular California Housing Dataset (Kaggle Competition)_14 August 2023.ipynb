{
 "cells": [
  {
   "cell_type": "code",
   "execution_count": 10,
   "id": "6644d93c",
   "metadata": {},
   "outputs": [],
   "source": [
    "##Import Data and Pandas Library\n",
    "from sklearn.ensemble import RandomForestRegressor\n",
    "from sklearn.model_selection import cross_val_score\n",
    "import pandas as pd\n",
    "import numpy as np\n",
    "from sklearn.model_selection import train_test_split\n",
    "from sklearn.metrics import mean_squared_error\n",
    "import math\n"
   ]
  },
  {
   "cell_type": "code",
   "execution_count": 17,
   "id": "ddd02008",
   "metadata": {},
   "outputs": [],
   "source": [
    "train = pd.read_csv(\"train.csv\")\n",
    "test = pd.read_csv(\"test.csv\")"
   ]
  },
  {
   "cell_type": "code",
   "execution_count": 18,
   "id": "cd30441d",
   "metadata": {},
   "outputs": [
    {
     "data": {
      "text/plain": [
       "<bound method DataFrame.info of           id  MedInc  HouseAge  AveRooms  AveBedrms  Population  AveOccup  \\\n",
       "0          0  2.3859      15.0  3.827160   1.112100      1280.0  2.486989   \n",
       "1          1  3.7188      17.0  6.013373   1.054217      1504.0  3.813084   \n",
       "2          2  4.7750      27.0  6.535604   1.103175      1061.0  2.464602   \n",
       "3          3  2.4138      16.0  3.350203   0.965432      1255.0  2.089286   \n",
       "4          4  3.7500      52.0  4.284404   1.069246      1793.0  1.604790   \n",
       "...      ...     ...       ...       ...        ...         ...       ...   \n",
       "37132  37132  3.3438      50.0  4.936508   1.079365      1775.0  3.022222   \n",
       "37133  37133  3.7308      26.0  5.087533   0.966019      1006.0  4.316901   \n",
       "37134  37134  4.1716      52.0  4.678862   1.101485      1156.0  1.431734   \n",
       "37135  37135  2.7143      16.0  5.710074   1.068376       584.0  2.803659   \n",
       "37136  37136  2.2419      34.0  5.424419   1.058685      1340.0  3.799065   \n",
       "\n",
       "       Latitude  Longitude  MedHouseVal  \n",
       "0         34.60    -120.12        0.980  \n",
       "1         38.69    -121.22        0.946  \n",
       "2         34.71    -120.45        1.576  \n",
       "3         32.66    -117.09        1.336  \n",
       "4         37.80    -122.41        4.500  \n",
       "...         ...        ...          ...  \n",
       "37132     34.19    -118.36        1.856  \n",
       "37133     37.32    -121.86        1.588  \n",
       "37134     37.75    -122.44        3.387  \n",
       "37135     38.40    -120.98        1.592  \n",
       "37136     36.34    -119.64        0.652  \n",
       "\n",
       "[37137 rows x 10 columns]>"
      ]
     },
     "execution_count": 18,
     "metadata": {},
     "output_type": "execute_result"
    }
   ],
   "source": [
    "train.info"
   ]
  },
  {
   "cell_type": "code",
   "execution_count": 19,
   "id": "38354a00",
   "metadata": {},
   "outputs": [
    {
     "data": {
      "text/html": [
       "<div>\n",
       "<style scoped>\n",
       "    .dataframe tbody tr th:only-of-type {\n",
       "        vertical-align: middle;\n",
       "    }\n",
       "\n",
       "    .dataframe tbody tr th {\n",
       "        vertical-align: top;\n",
       "    }\n",
       "\n",
       "    .dataframe thead th {\n",
       "        text-align: right;\n",
       "    }\n",
       "</style>\n",
       "<table border=\"1\" class=\"dataframe\">\n",
       "  <thead>\n",
       "    <tr style=\"text-align: right;\">\n",
       "      <th></th>\n",
       "    </tr>\n",
       "  </thead>\n",
       "  <tbody>\n",
       "    <tr>\n",
       "      <th>0</th>\n",
       "    </tr>\n",
       "    <tr>\n",
       "      <th>1</th>\n",
       "    </tr>\n",
       "    <tr>\n",
       "      <th>2</th>\n",
       "    </tr>\n",
       "    <tr>\n",
       "      <th>3</th>\n",
       "    </tr>\n",
       "    <tr>\n",
       "      <th>4</th>\n",
       "    </tr>\n",
       "    <tr>\n",
       "      <th>...</th>\n",
       "    </tr>\n",
       "    <tr>\n",
       "      <th>37132</th>\n",
       "    </tr>\n",
       "    <tr>\n",
       "      <th>37133</th>\n",
       "    </tr>\n",
       "    <tr>\n",
       "      <th>37134</th>\n",
       "    </tr>\n",
       "    <tr>\n",
       "      <th>37135</th>\n",
       "    </tr>\n",
       "    <tr>\n",
       "      <th>37136</th>\n",
       "    </tr>\n",
       "  </tbody>\n",
       "</table>\n",
       "<p>37137 rows × 0 columns</p>\n",
       "</div>"
      ],
      "text/plain": [
       "Empty DataFrame\n",
       "Columns: []\n",
       "Index: [0, 1, 2, 3, 4, 5, 6, 7, 8, 9, 10, 11, 12, 13, 14, 15, 16, 17, 18, 19, 20, 21, 22, 23, 24, 25, 26, 27, 28, 29, 30, 31, 32, 33, 34, 35, 36, 37, 38, 39, 40, 41, 42, 43, 44, 45, 46, 47, 48, 49, 50, 51, 52, 53, 54, 55, 56, 57, 58, 59, 60, 61, 62, 63, 64, 65, 66, 67, 68, 69, 70, 71, 72, 73, 74, 75, 76, 77, 78, 79, 80, 81, 82, 83, 84, 85, 86, 87, 88, 89, 90, 91, 92, 93, 94, 95, 96, 97, 98, 99, ...]\n",
       "\n",
       "[37137 rows x 0 columns]"
      ]
     },
     "execution_count": 19,
     "metadata": {},
     "output_type": "execute_result"
    }
   ],
   "source": [
    "#checking if there is any missing columns\n",
    "train.loc[:, train.isnull().any()]"
   ]
  },
  {
   "cell_type": "code",
   "execution_count": 40,
   "id": "96b62876",
   "metadata": {},
   "outputs": [
    {
     "name": "stdout",
     "output_type": "stream",
     "text": [
      "[1.59 1.58 2.29 ... 2.74 1.34 0.71]\n",
      "RMSE Score: 0.8169112917063406\n"
     ]
    }
   ],
   "source": [
    "X = train.drop(['Latitude','Longitude', 'MedHouseVal','id'], axis = 1)\n",
    "y=train[['MedHouseVal']]\n",
    "y= y.to_numpy(dtype=\"int\")\n",
    "\n",
    "#Splitting the data into training and testing sets\n",
    "X_train, X_test, y_train, y_test = train_test_split(X, y, test_size = 0.3, random_state = 42)\n",
    "\n",
    "# Instantiating the model\n",
    "train_mod = RandomForestRegressor(random_state = 42, n_jobs=-1)\n",
    "train_mod.fit(X_train, y_train.ravel())\n",
    "\n",
    "# Making predictions\n",
    "y_pred = train_mod.predict(X_test)\n",
    "print(y_pred)\n",
    "\n",
    "# Measuring the accuracy of the model\n",
    "print(f'RMSE Score: {mean_squared_error(y_test, y_pred, squared=False)}')"
   ]
  },
  {
   "cell_type": "code",
   "execution_count": 36,
   "id": "bd8ff146",
   "metadata": {},
   "outputs": [
    {
     "data": {
      "image/png": "[encoded data removed]",
      "text/plain": [
       "<Figure size 576x432 with 1 Axes>"
      ]
     },
     "metadata": {
      "needs_background": "light"
     },
     "output_type": "display_data"
    }
   ],
   "source": [
    "#Feature(Variable) importance\n",
    "import matplotlib.pyplot as plt\n",
    "import seaborn as sns\n",
    "%matplotlib inline\n",
    " \n",
    "ftr_importances_values = train_mod.feature_importances_\n",
    "ftr_importances = pd.Series(ftr_importances_values, index=X_train.columns)\n",
    "ftr_top = ftr_importances.sort_values(ascending=False)[:20]\n",
    " \n",
    "plt.figure(figsize=(8, 6))\n",
    "sns.barplot(x=ftr_top, y=ftr_top.index)\n",
    "plt.show()\n"
   ]
  },
  {
   "cell_type": "markdown",
   "id": "b95d064f",
   "metadata": {},
   "source": [
    "## Reference\n",
    "https://yaeyang0629.tistory.com/entry/%EB%A8%B8%EC%8B%A0%EB%9F%AC%EB%8B%9D%ED%8C%8C%EC%9D%B4%EC%8D%AC-Random-Forest-Regressor%ED%9A%8C%EA%B7%80\n",
    "\n",
    "Dataset<-https://www.kaggle.com/competitions/playground-series-s3e1"
   ]
  }
 ],
 "metadata": {
  "kernelspec": {
   "display_name": "Python 3 (ipykernel)",
   "language": "python",
   "name": "python3"
  },
  "language_info": {
   "codemirror_mode": {
    "name": "ipython",
    "version": 3
   },
   "file_extension": ".py",
   "mimetype": "text/x-python",
   "name": "python",
   "nbconvert_exporter": "python",
   "pygments_lexer": "ipython3",
   "version": "3.9.7"
  }
 },
 "nbformat": 4,
 "nbformat_minor": 5
}
